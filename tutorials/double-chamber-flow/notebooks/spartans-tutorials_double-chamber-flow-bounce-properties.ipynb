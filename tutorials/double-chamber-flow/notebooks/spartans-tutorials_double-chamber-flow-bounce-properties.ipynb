{
 "cells": [
  {
   "cell_type": "markdown",
   "id": "5bde2b89",
   "metadata": {},
   "source": [
    "## SpaRTaNS Tutorial: Double Chamber Flow\n",
    "#### Last updated: 04/30/2022"
   ]
  },
  {
   "cell_type": "markdown",
   "id": "596bb687",
   "metadata": {},
   "source": [
    "## Bounce Properties\n",
    "\n",
    "- We went through all that trouble above to get a mesh with a one-to-one nodal and triangle correspondence between the periodic surfaces\n",
    "  - as-well as automatically identified boundary groupings\n",
    "- Here, we use these to obtain the triangle mapping requested by SpaRTaNS\n",
    "  - This has the form {outgoing_triangle_index, outgoing_triangle_vertex_index, incoming_triangle_index, incoming_triangle_vertex_index}\n",
    "    - for each \"bounce tensor\""
   ]
  },
  {
   "cell_type": "code",
   "execution_count": null,
   "id": "9569c76b",
   "metadata": {},
   "outputs": [],
   "source": [
    "triangles[\"SO2\"][\"double-chamber\"] = Thread[mesh[\"SO2\"][\"double-chamber\"][\"BoundaryElements\"][[1]]] /. TriangleElement[a__] :> List[a];\n",
    "vertices[\"SO2\"][\"double-chamber\"] = mesh[\"SO2\"][\"double-chamber\"][\"Coordinates\"];\n",
    "Do[positions[\"SO2\"][\"double-chamber\"][j] = Flatten[Position[triangles[\"SO2\"][\"double-chamber\"], {{t1_, t2_, t3_}, i_} /; i == j]], \n",
    "    {j, Length[mesh[\"SO2\"][\"double-chamber\"][\"BoundaryElementMarkerUnion\"]]}]"
   ]
  },
  {
   "cell_type": "markdown",
   "id": "6235c031",
   "metadata": {},
   "source": [
    "- We will use two bounce tensors\n",
    "  - Identity scattering across the periodic surfaces of the channel\n",
    "    - i.e. carriers from surface 4 pass straight through to surface 8, and vice-versa"
   ]
  },
  {
   "cell_type": "code",
   "execution_count": null,
   "id": "2226dbf4",
   "metadata": {},
   "outputs": [],
   "source": [
    "bottomTriangles[\"SO2\"][\"double-chamber\"] = \n",
    "  Extract[vertices[\"SO2\"][\"double-chamber\"], \n",
    "   List /@ triangles[\"SO2\"][\"double-chamber\"][[\n",
    "     positions[\"SO2\"][\"double-chamber\"][4], 1]]];\n",
    "bottomTrianglesOrdering[\"SO2\"][\"double-chamber\"] = \n",
    "  Ordering /@ bottomTriangles[\"SO2\"][\"double-chamber\"];\n",
    "bottomTrianglesMapped[\"SO2\"][\"double-chamber\"] = \n",
    "  MapAt[-# &, bottomTriangles[\"SO2\"][\"double-chamber\"], {All, All, 2}];\n",
    "topTriangles[\"SO2\"][\"double-chamber\"] = \n",
    "  Extract[vertices[\"SO2\"][\"double-chamber\"], \n",
    "   List /@ triangles[\"SO2\"][\"double-chamber\"][[\n",
    "     positions[\"SO2\"][\"double-chamber\"][8], 1]]];\n",
    "topTrianglesOrdering[\"SO2\"][\"double-chamber\"] = \n",
    "  Ordering /@ topTriangles[\"SO2\"][\"double-chamber\"];\n",
    "\n",
    "bottomToTopMapping[\"SO2\"][\"double-chamber\"] = \n",
    "  Position[Sort /@ topTriangles[\"SO2\"][\"double-chamber\"], #][[1, \n",
    "     1]] & /@ (Sort /@ bottomTrianglesMapped[\"SO2\"][\"double-chamber\"]);\n",
    "bottomToTopMapping[\"SO2\"][\"double-chamber\"] = \n",
    "  Join @@ MapIndexed[\n",
    "    Table[{positions[\"SO2\"][\"double-chamber\"][4][[First[#2]]], i[[1]],\n",
    "        positions[\"SO2\"][\"double-chamber\"][8][[#1]], i[[2]]}, {i, \n",
    "       Thread[{bottomTrianglesOrdering[\"SO2\"][\"double-chamber\"][[\n",
    "          First[#2]]], \n",
    "         topTrianglesOrdering[\"SO2\"][\"double-chamber\"][[#1]]}]}] &, \n",
    "    bottomToTopMapping[\"SO2\"][\"double-chamber\"]];\n",
    "periodicMapping[\"SO2\"][\"double-chamber\"] = \n",
    "  Join[bottomToTopMapping[\"SO2\"][\"double-chamber\"], \n",
    "   Join @@ Reverse[Partition[#, 2]] & /@ \n",
    "    bottomToTopMapping[\"SO2\"][\"double-chamber\"]];"
   ]
  },
  {
   "cell_type": "markdown",
   "id": "cbef4981",
   "metadata": {},
   "source": [
    "  - diffuse scattering across all other surfaces"
   ]
  },
  {
   "cell_type": "code",
   "execution_count": null,
   "id": "a283fce7",
   "metadata": {},
   "outputs": [],
   "source": [
    "diffusiveMapping[\"SO2\"][\"double-chamber\"] = \n",
    "  Flatten[Table[{positions[\"SO2\"][\"double-chamber\"][i][[n]], t, \n",
    "     positions[\"SO2\"][\"double-chamber\"][i][[n]], \n",
    "     t}, {i, {1, 2, 3, 5, 6, 7, 9, 10}}, {n, \n",
    "     Length[positions[\"SO2\"][\"double-chamber\"][i]]}, {t, 3}], 2];"
   ]
  },
  {
   "cell_type": "markdown",
   "id": "afd33034",
   "metadata": {},
   "source": [
    "  - Note: Spartans unlike Mathematica uses 0-based indexing"
   ]
  },
  {
   "cell_type": "code",
   "execution_count": null,
   "id": "0d81ab8d",
   "metadata": {},
   "outputs": [],
   "source": [
    "triangleMappings[\"SO2\"][\n",
    "   \"double-chamber\"] = {diffusiveMapping[\"SO2\"][\"double-chamber\"], \n",
    "    periodicMapping[\"SO2\"][\"double-chamber\"]} - 1;"
   ]
  },
  {
   "cell_type": "markdown",
   "id": "4c68d884",
   "metadata": {},
   "source": [
    "- We then define our bounce tensors"
   ]
  },
  {
   "cell_type": "code",
   "execution_count": null,
   "id": "28b66750",
   "metadata": {},
   "outputs": [],
   "source": [
    "bounceTensors[\"SO2\"][\"double-chamber\"] = {\n",
    "   ConstantArray[2./numberOfStates, {numberOfStates, numberOfStates}],\n",
    "   N[IdentityMatrix[numberOfStates]]\n",
    "   };"
   ]
  }
 ],
 "metadata": {
  "kernelspec": {
   "display_name": "Wolfram Language 13",
   "language": "Wolfram Language",
   "name": "wolframlanguage13"
  },
  "language_info": {
   "codemirror_mode": "mathematica",
   "file_extension": ".m",
   "mimetype": "application/vnd.wolfram.m",
   "name": "Wolfram Language",
   "pygments_lexer": "mathematica",
   "version": "12.0"
  }
 },
 "nbformat": 4,
 "nbformat_minor": 5
}
