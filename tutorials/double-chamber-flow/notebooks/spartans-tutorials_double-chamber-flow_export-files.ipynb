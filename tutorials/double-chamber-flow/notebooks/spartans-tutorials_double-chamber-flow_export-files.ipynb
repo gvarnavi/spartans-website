{
 "cells": [
  {
   "cell_type": "markdown",
   "id": "5bde2b89",
   "metadata": {},
   "source": [
    "## SpaRTaNS Tutorial: Double Chamber Flow\n",
    "#### Last updated: 04/30/2022"
   ]
  },
  {
   "cell_type": "markdown",
   "id": "596bb687",
   "metadata": {},
   "source": [
    "## Export Inputs\n",
    "\n",
    "#### Source Code"
   ]
  },
  {
   "cell_type": "code",
   "execution_count": 1,
   "id": "9569c76b",
   "metadata": {},
   "outputs": [],
   "source": [
    "Needs[\"GeneralUtilities`\"]\n",
    "pythonSession = StartExternalSession[<|\"System\" -> \"Python\", \"Version\" -> \"3\"|>];\n",
    "\n",
    "SetDirectory[NotebookDirectory[]]\n",
    "\n",
    "prepareInputs[sym_][geometry_] := <|\n",
    " \"A\" -> <|\"velocities\" -> NumericArray[velocities[sym], \"Real64\"],\n",
    "    \"frequencies\" -> NumericArray[frequencies[sym], \"Real64\"],\n",
    "    \"diagonal\" -> NumericArray[diagonal[sym], \"Real64\"],\n",
    "    \"mixing_matrix\" -> NumericArray[mixingMatrix[sym], \"Real64\"]|>,\n",
    "  \"000\" -> <|\"vertices\" -> NumericArray[vertices[sym][geometry], \"Real64\"],\n",
    "    \"tetrahedra_indices\" -> NumericArray[tetrahedraIndices[sym][geometry], \"Integer64\"],\n",
    "    \"triangle_indices\" ->NumericArray[triangleIndices[sym][geometry], \"Integer64\"],\n",
    "    If[normalsQ[sym][geometry],\"surface_normals\" -> NumericArray[normals[sym][geometry], \"Real64\"], Nothing]|>,\n",
    "  \"connectivity_info\" -> <|\"connectivity\" -> NumericArray[connectivity[sym][geometry], \"Integer64\"],\n",
    "    \"000--A_000--A\" -> Association[MapIndexed[StringTemplate[\"bounce_`1`\"][IntegerString[First[#2] - 1, 10, 2]]\n",
    "      -> NumericArray[#1, \"Integer64\"] &,triangleMappings[sym][geometry]]],\n",
    "    \"bounce_tensors\" -> Association[MapIndexed[StringTemplate[\"bounce_`1`\"][IntegerString[First[#2] - 1, 10, 2]] \n",
    "      -> NumericArray[#1, \"Real64\"] &, bounceTensors[sym][geometry]]]|>,\n",
    "  \"000--A\" -> <|If[surfaceInjectionQ[sym][geometry], \"surface_injection\" -> \n",
    "    NumericArray[surfaceInjection[sym][geometry], \"Real64\"], Nothing],\n",
    "    If[bodyInjectionQ[sym][geometry], \"body_injection\" -> \n",
    "      NumericArray[bodyInjection[sym][geometry], \"Real64\"], Nothing]|>\n",
    "  |>\n",
    "\n",
    "exportInputs[sym_][geometry_] := Block[{name, spartansInput},\n",
    "  \n",
    "  spartansInput = prepareInputs[sym][geometry];\n",
    "  name = StringTemplate[\"spartans_test_`1`_`2`_dataset\"][sym,geometry];\n",
    "  \n",
    "  ExportStructuredHDF5[name <> \".h5\", spartansInput];\n",
    "  Run[StringTemplate[\"h5repack -i `1`.h5 -o `1`-compressed.h5 -f GZIP=1\"][name]];\n",
    "  \n",
    "  ExternalEvaluate[pythonSession,StringTemplate[postProcessing[sym][geometry]][name, Directory[]]];\n",
    "  \n",
    "  Run[StringTemplate[\"rm `1`.h5\"][name]]\n",
    "  ]"
   ]
  },
  {
   "cell_type": "markdown",
   "id": "6235c031",
   "metadata": {},
   "source": [
    "- Finally, we export our inputs"
   ]
  },
  {
   "cell_type": "code",
   "execution_count": null,
   "id": "2226dbf4",
   "metadata": {},
   "outputs": [],
   "source": [
    "postProcessing[\"SO2\"][\"double-chamber\"] = \"\n",
    "import h5py\n",
    "import numpy as np\n",
    "import os\n",
    "\n",
    "with h5py.File('`2`/`1`-compressed.h5','a') as f:\n",
    "    f['000--A'].attrs['material']='A'\n",
    "    f['000--A'].attrs['mesh']='000'\n",
    "    f['connectivity_info']['000--A_000--A'].attrs['outgoing_structure']='000--A'\n",
    "    f['connectivity_info']['000--A_000--A'].attrs['incoming_structure']='000--A'\n",
    "    f['connectivity_info']['connectivity'].attrs['ordering']=np.array([b'000'])\n",
    "\";"
   ]
  },
  {
   "cell_type": "code",
   "execution_count": null,
   "id": "a283fce7",
   "metadata": {},
   "outputs": [],
   "source": [
    "exportInputs[\"SO2\"][\"double-chamber\"]"
   ]
  }
 ],
 "metadata": {
  "kernelspec": {
   "display_name": "Wolfram Language 13",
   "language": "Wolfram Language",
   "name": "wolframlanguage13"
  },
  "language_info": {
   "codemirror_mode": "mathematica",
   "file_extension": ".m",
   "mimetype": "application/vnd.wolfram.m",
   "name": "Wolfram Language",
   "pygments_lexer": "mathematica",
   "version": "12.0"
  }
 },
 "nbformat": 4,
 "nbformat_minor": 5
}
