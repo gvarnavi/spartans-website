{
 "cells": [
  {
   "cell_type": "markdown",
   "id": "5bde2b89",
   "metadata": {},
   "source": [
    "## SpaRTaNS Tutorial: Double Chamber Flow\n",
    "#### Last updated: 04/30/2022"
   ]
  },
  {
   "cell_type": "markdown",
   "id": "596bb687",
   "metadata": {},
   "source": [
    "## Injection Properties\n",
    "\n",
    "- Finally, we define our body and surface injections\n",
    "  - We'll use surface injections on the channel surfaces to get the current flowing"
   ]
  },
  {
   "cell_type": "code",
   "execution_count": 1,
   "id": "9569c76b",
   "metadata": {},
   "outputs": [],
   "source": [
    "surfaceInjectionQ[\"SO2body\"][\"double-chamber\"] = True;\n",
    "bodyInjectionQ[\"SO2\"][\"double-chamber\"] = False;"
   ]
  },
  {
   "cell_type": "markdown",
   "id": "6235c031",
   "metadata": {},
   "source": [
    "- We will use two bounce tensors\n",
    "  - Identity scattering across the periodic surfaces of the channel\n",
    "    - i.e. carriers from surface 4 pass straight through to surface 8, and vice-versa"
   ]
  },
  {
   "cell_type": "code",
   "execution_count": null,
   "id": "2226dbf4",
   "metadata": {},
   "outputs": [],
   "source": [
    "tetrahedraIndices[\"SO2\"][\"double-chamber\"] = \n",
    "  First[ElementIncidents[\n",
    "     mesh[\"SO2\"][\"double-chamber\"][\"MeshElements\"]]] - 1;\n",
    "triangleIndices[\"SO2\"][\"double-chamber\"] = \n",
    "  triangles[\"SO2\"][\"double-chamber\"][[All, 1]] - 1;\n",
    "\n",
    "surfaceInjection[\"SO2\"][\"double-chamber\"] = \n",
    "  ConstantArray[0., \n",
    "   Prepend[Dimensions[triangleIndices[\"SO2\"][\"double-chamber\"]], \n",
    "    numberOfStates]];\n",
    "\n",
    "surfaceInjection[\"SO2\"][\"double-chamber\"] = ReplacePart[\n",
    "   surfaceInjection[\"SO2\"][\"double-chamber\"],\n",
    "   Flatten[\n",
    "    Table[{state, triangle, order} -> \n",
    "      Max[velocities[\"SO2\"][[state, 2]], 0.], {state, \n",
    "      numberOfStates}, {triangle, \n",
    "      positions[\"SO2\"][\"double-chamber\"][4]}, {order, {1, 2, 3}}], 2]];\n",
    "\n",
    "surfaceInjection[\"SO2\"][\"double-chamber\"] = ReplacePart[\n",
    "   surfaceInjection[\"SO2\"][\"double-chamber\"],\n",
    "   Flatten[\n",
    "    Table[{state, triangle, order} -> \n",
    "      Min[velocities[\"SO2\"][[state, 2]], 0.], {state, \n",
    "      numberOfStates}, {triangle, \n",
    "      positions[\"SO2\"][\"double-chamber\"][8]}, {order, {1, 2, 3}}], \n",
    "    2]];"
   ]
  },
  {
   "cell_type": "markdown",
   "id": "cbef4981",
   "metadata": {},
   "source": [
    "- We also provide the surface boundary normals"
   ]
  },
  {
   "cell_type": "code",
   "execution_count": null,
   "id": "a283fce7",
   "metadata": {},
   "outputs": [],
   "source": [
    "normalsQ[\"SO2\"][\"double-chamber\"] = True;\n",
    "normals[\"SO2\"][\"double-chamber\"] = -First[mesh[\"SO2\"][\"double-chamber\"][\"BoundaryNormals\"]];"
   ]
  },
  {
   "cell_type": "markdown",
   "id": "afd33034",
   "metadata": {},
   "source": [
    "- And mesh connectivity\n",
    "  - Note: since this is an isolated geometry, we simply have an interface w/ itself (periodic and diffuse)"
   ]
  },
  {
   "cell_type": "code",
   "execution_count": null,
   "id": "0d81ab8d",
   "metadata": {},
   "outputs": [],
   "source": [
    "connectivity[\"SO2\"][\"double-chamber\"] = {{1}};"
   ]
  }
 ],
 "metadata": {
  "kernelspec": {
   "display_name": "Wolfram Language 13",
   "language": "Wolfram Language",
   "name": "wolframlanguage13"
  },
  "language_info": {
   "codemirror_mode": "mathematica",
   "file_extension": ".m",
   "mimetype": "application/vnd.wolfram.m",
   "name": "Wolfram Language",
   "pygments_lexer": "mathematica",
   "version": "12.0"
  }
 },
 "nbformat": 4,
 "nbformat_minor": 5
}
